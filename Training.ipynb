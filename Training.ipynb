{
 "cells": [
  {
   "cell_type": "code",
   "execution_count": 39,
   "id": "english-stupid",
   "metadata": {},
   "outputs": [],
   "source": [
    "import numpy as np\n",
    "\n",
    "#import tensorflow_hub as hub\n",
    "import tensorflow as tf\n",
    "\n",
    "import re\n",
    "\n",
    "from naps.pipelines.read_naps import read_naps_dataset\n",
    "from naps.uast import uast_pprint\n",
    "\n",
    "from numpy import array\n",
    "from keras.models import Sequential\n",
    "from keras.layers import LSTM\n",
    "from keras.layers import Dense\n",
    "from keras.layers import RepeatVector\n",
    "from keras.layers import TimeDistributed\n",
    "from keras.layers import GaussianNoise\n",
    "#from keras.utils import plot_model\n",
    "\n",
    "#import elmo\n",
    "#from naps.pipelines.read_naps import read_naps_dataset\n",
    "#from dataset import flatten, generate_output, get_tokens, even_embeddings, even_tokens\n",
    "#from tree_transformation import make_the_tree_good\n",
    "#from loss_function import init_loss, loss_function\n",
    "\n",
    "\n",
    "import warnings\n",
    "warnings.filterwarnings(\"ignore\")"
   ]
  },
  {
   "cell_type": "code",
   "execution_count": 65,
   "id": "multiple-mayor",
   "metadata": {},
   "outputs": [],
   "source": [
    "X_test = np.load('data/X_train1.npy', allow_pickle=True)\n",
    "\n",
    "Y_test = np.load('data/Y_train1.npy', allow_pickle=True)\n"
   ]
  },
  {
   "cell_type": "code",
   "execution_count": 61,
   "id": "durable-commodity",
   "metadata": {},
   "outputs": [],
   "source": [
    "model2 = Sequential()\n",
    "#Encoder\n",
    "model2.add(LSTM(100, activation='sigmoid', input_shape=(X_test.shape[1], X_test.shape[2]), return_sequences=True))\n",
    "model2.add(LSTM(50, activation='sigmoid'))\n",
    "#Decoder/Generator\n",
    "model2.add(RepeatVector(Y_test.shape[1]))\n",
    "model2.add(LSTM(50, activation='sigmoid', return_sequences=True))\n",
    "model2.add(LSTM(100, activation='sigmoid', return_sequences=True))\n",
    "model2.add(TimeDistributed(Dense(1850, activation='softmax')))\n",
    "#model2.add(GaussianNoise(0.5))\n",
    "model2.compile(optimizer='adam', loss='categorical_crossentropy', metrics=['accuracy'])"
   ]
  },
  {
   "cell_type": "code",
   "execution_count": 62,
   "id": "dedicated-prayer",
   "metadata": {},
   "outputs": [
    {
     "name": "stdout",
     "output_type": "stream",
     "text": [
      "Epoch 1/10\n",
      "234/234 [==============================] - 223s 951ms/step - loss: 7.2221 - accuracy: 0.0360\n",
      "Epoch 2/10\n",
      "234/234 [==============================] - 141s 604ms/step - loss: 6.2009 - accuracy: 0.6530\n",
      "Epoch 3/10\n",
      "234/234 [==============================] - 157s 673ms/step - loss: 4.9060 - accuracy: 0.6529\n",
      "Epoch 4/10\n",
      "234/234 [==============================] - 235s 1s/step - loss: 3.6570 - accuracy: 0.6529\n",
      "Epoch 5/10\n",
      "234/234 [==============================] - 168s 720ms/step - loss: 2.6830 - accuracy: 0.6529\n",
      "Epoch 6/10\n",
      "234/234 [==============================] - 139s 595ms/step - loss: 2.0906 - accuracy: 0.6529\n",
      "Epoch 7/10\n",
      "234/234 [==============================] - 155s 661ms/step - loss: 1.8663 - accuracy: 0.6529\n",
      "Epoch 8/10\n",
      "234/234 [==============================] - 116s 495ms/step - loss: 1.8261 - accuracy: 0.6529\n",
      "Epoch 9/10\n",
      "234/234 [==============================] - 148s 631ms/step - loss: 1.8005 - accuracy: 0.6529\n",
      "Epoch 10/10\n",
      "234/234 [==============================] - 169s 722ms/step - loss: 1.7762 - accuracy: 0.6529\n"
     ]
    },
    {
     "data": {
      "text/plain": [
       "<keras.callbacks.callbacks.History at 0x1fae056f7c8>"
      ]
     },
     "execution_count": 62,
     "metadata": {},
     "output_type": "execute_result"
    }
   ],
   "source": [
    "model2.fit(X_test, Y_test, epochs=10, verbose=1, batch_size = 32)"
   ]
  },
  {
   "cell_type": "code",
   "execution_count": 63,
   "id": "desirable-zealand",
   "metadata": {},
   "outputs": [],
   "source": [
    "model2.save('wizard_works1.h5')"
   ]
  },
  {
   "cell_type": "code",
   "execution_count": 81,
   "id": "expensive-meaning",
   "metadata": {},
   "outputs": [
    {
     "name": "stdout",
     "output_type": "stream",
     "text": [
      "Model: \"sequential_16\"\n",
      "_________________________________________________________________\n",
      "Layer (type)                 Output Shape              Param #   \n",
      "=================================================================\n",
      "lstm_30 (LSTM)               (None, 1920, 100)         347600    \n",
      "_________________________________________________________________\n",
      "lstm_31 (LSTM)               (None, 50)                30200     \n",
      "_________________________________________________________________\n",
      "repeat_vector_14 (RepeatVect (None, 701, 50)           0         \n",
      "_________________________________________________________________\n",
      "lstm_32 (LSTM)               (None, 701, 50)           20200     \n",
      "_________________________________________________________________\n",
      "lstm_33 (LSTM)               (None, 701, 100)          60400     \n",
      "_________________________________________________________________\n",
      "time_distributed_13 (TimeDis (None, 701, 1850)         186850    \n",
      "=================================================================\n",
      "Total params: 645,250\n",
      "Trainable params: 645,250\n",
      "Non-trainable params: 0\n",
      "_________________________________________________________________\n"
     ]
    }
   ],
   "source": [
    "model2.summary()"
   ]
  },
  {
   "cell_type": "code",
   "execution_count": 75,
   "id": "alternate-appointment",
   "metadata": {},
   "outputs": [
    {
     "name": "stdout",
     "output_type": "stream",
     "text": [
      "Epoch 1/10\n",
      "200/200 [==============================] - 115s 573ms/step - loss: 1.9505 - accuracy: 0.6010\n",
      "Epoch 2/10\n",
      "200/200 [==============================] - 86s 429ms/step - loss: 1.9412 - accuracy: 0.6010\n",
      "Epoch 3/10\n",
      "200/200 [==============================] - 89s 444ms/step - loss: 1.9378 - accuracy: 0.6010\n",
      "Epoch 4/10\n",
      "200/200 [==============================] - 70s 352ms/step - loss: 1.9345 - accuracy: 0.6010\n",
      "Epoch 5/10\n",
      "200/200 [==============================] - 70s 351ms/step - loss: 1.9324 - accuracy: 0.6010\n",
      "Epoch 6/10\n",
      "200/200 [==============================] - 72s 359ms/step - loss: 1.9307 - accuracy: 0.6010\n",
      "Epoch 7/10\n",
      "200/200 [==============================] - 71s 357ms/step - loss: 1.9288 - accuracy: 0.6010\n",
      "Epoch 8/10\n",
      "200/200 [==============================] - 72s 359ms/step - loss: 1.9278 - accuracy: 0.6010\n",
      "Epoch 9/10\n",
      "200/200 [==============================] - 71s 353ms/step - loss: 1.9278 - accuracy: 0.6010\n",
      "Epoch 10/10\n",
      "200/200 [==============================] - 85s 427ms/step - loss: 1.9263 - accuracy: 0.6010\n"
     ]
    },
    {
     "data": {
      "text/plain": [
       "<keras.callbacks.callbacks.History at 0x1fae2e5ad08>"
      ]
     },
     "execution_count": 75,
     "metadata": {},
     "output_type": "execute_result"
    }
   ],
   "source": [
    "model2.fit(X_test_t, Y_test_t, epochs=10, verbose=1, batch_size = 32)"
   ]
  },
  {
   "cell_type": "code",
   "execution_count": 76,
   "id": "center-advantage",
   "metadata": {},
   "outputs": [],
   "source": [
    "model2.save('wizard_works1and2.h5')"
   ]
  },
  {
   "cell_type": "code",
   "execution_count": 82,
   "id": "superior-throat",
   "metadata": {},
   "outputs": [
    {
     "name": "stdout",
     "output_type": "stream",
     "text": [
      "35/35 [==============================] - 14s 412ms/step\n"
     ]
    },
    {
     "data": {
      "text/plain": [
       "[1.984958437510899, 0.576278805732727]"
      ]
     },
     "execution_count": 82,
     "metadata": {},
     "output_type": "execute_result"
    }
   ],
   "source": [
    "model2.evaluate(X_test, Y_test)"
   ]
  },
  {
   "cell_type": "code",
   "execution_count": null,
   "id": "toxic-vatican",
   "metadata": {},
   "outputs": [],
   "source": []
  }
 ],
 "metadata": {
  "kernelspec": {
   "display_name": "Python 3",
   "language": "python",
   "name": "python3"
  },
  "language_info": {
   "codemirror_mode": {
    "name": "ipython",
    "version": 3
   },
   "file_extension": ".py",
   "mimetype": "text/x-python",
   "name": "python",
   "nbconvert_exporter": "python",
   "pygments_lexer": "ipython3",
   "version": "3.7.9"
  }
 },
 "nbformat": 4,
 "nbformat_minor": 5
}
